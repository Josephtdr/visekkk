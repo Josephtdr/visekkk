{
 "cells": [
  {
   "cell_type": "markdown",
   "metadata": {},
   "source": [
    "# The Vicsek model "
   ]
  },
  {
   "cell_type": "markdown",
   "metadata": {},
   "source": [
    "## Part 1"
   ]
  },
  {
   "cell_type": "code",
   "execution_count": 1,
   "metadata": {},
   "outputs": [],
   "source": [
    "import numpy as np\n",
    "import matplotlib.pyplot as plt\n",
    "plt.style.use('ggplot')"
   ]
  },
  {
   "cell_type": "code",
   "execution_count": 2,
   "metadata": {},
   "outputs": [],
   "source": [
    "def vecsum1(x,y): #returns the sum of two vectors\n",
    "    return [x[0]+y[0], x[1]+y[1]]"
   ]
  },
  {
   "cell_type": "code",
   "execution_count": 3,
   "metadata": {},
   "outputs": [],
   "source": [
    "def distance1(x,y): #returns the distance between two vectors\n",
    "    return ((x[0]-y[0])**2 + (x[1]-y[1])**2)**(1/2)"
   ]
  },
  {
   "cell_type": "code",
   "execution_count": 11,
   "metadata": {},
   "outputs": [],
   "source": [
    "def distance2(a,b,change=False):\n",
    "    xdist, ydist = a[0] - b[0], a[1] - b[1]\n",
    "    if xdist < -7.5:\n",
    "        t1 = -15\n",
    "    elif xdist >= -7.5 and a[0] - b[0] <= 7.5:\n",
    "        t1 = 0\n",
    "    elif xdist > 7.5:\n",
    "        t1 = 15\n",
    "    if ydist < -7.5:\n",
    "        t2 = -15\n",
    "    elif ydist >= -7.5 and a[1] - b[1] <= 7.5:\n",
    "        t2 = 0\n",
    "    elif ydist > 7.5:\n",
    "        t2 = 15\n",
    "    if change == True:\n",
    "        return [b[0]-a[0]+t1, b[1]-a[1]+t2]  # this is for part 6.\n",
    "    return np.sqrt((b[1]-a[1]+t2)**2 + (b[0]-a[0]+t1)**2)\n",
    "\n",
    "\n",
    "def directdist(a,b): #calculates the shortest distance between two points (inc off screen)\n",
    "    xdist, ydist = abs(a[0] - b[0]), abs(a[1] - b[1])\n",
    "    if xdist>7.5:\n",
    "        xdist = abs(xdist-15)\n",
    "    if ydist>7.5:\n",
    "        ydist = abs(xdist-15)\n",
    "    return np.sqrt((xdist)**2 + (ydist)**2)\n",
    "\n"
   ]
  },
  {
   "cell_type": "code",
   "execution_count": 12,
   "metadata": {},
   "outputs": [],
   "source": [
    "def quiverplot(birds, title):\n",
    "    plt.figure()\n",
    "    plt.quiver(birds[0],birds[1],np.cos(birds[2]),np.sin(birds[2]), np.arange(len(birds[0])), scale=25, width=.004)\n",
    "    plt.xlim(0,15)\n",
    "    plt.ylim(0,15)\n",
    "    plt.title(title)\n",
    "    plt.show()"
   ]
  },
  {
   "cell_type": "markdown",
   "metadata": {},
   "source": [
    "In order to let the model have periodic boundry conditions, we use:"
   ]
  },
  {
   "cell_type": "code",
   "execution_count": 16,
   "metadata": {},
   "outputs": [],
   "source": [
    "def periodicBC(birds): #¬change to vector mag 3\n",
    "    for i in range(len(birds)):\n",
    "        birds[i][0]=birds[i][0]%15\n",
    "        birds[i][1]=birds[i][1]%15\n",
    "    return birds"
   ]
  },
  {
   "cell_type": "markdown",
   "metadata": {},
   "source": [
    "Here we create 200 birds randomd"
   ]
  },
  {
   "cell_type": "code",
   "execution_count": 9,
   "metadata": {},
   "outputs": [],
   "source": [
    "birds=np.zeros((200,3))\n",
    "\n",
    "for i in range(200):\n",
    "    birds[i]=[15*np.random.rand(),15*np.random.rand(),2*np.pi*np.random.rand()]\n"
   ]
  },
  {
   "cell_type": "markdown",
   "metadata": {},
   "source": [
    "Firstly, use the matplotlib `quiver` plot to make an illustration: "
   ]
  },
  {
   "cell_type": "code",
   "execution_count": null,
   "metadata": {},
   "outputs": [],
   "source": [
    "# quiver function to make plots of vector fields\n",
    "birds=[15*np.random.rand(200),15*np.random.rand(200),2*np.pi*np.random.rand(200)]\n",
    "\n",
    "quiverplot([xval,yval,theta],'200 random birds')\n"
   ]
  },
  {
   "cell_type": "markdown",
   "metadata": {},
   "source": [
    "To see that the function `periodicBC` works, use `xval + 15` and `yval + 15` to create a new figure. The new figure and the old one should be the same."
   ]
  },
  {
   "cell_type": "code",
   "execution_count": null,
   "metadata": {},
   "outputs": [],
   "source": [
    "part11 = periodicBC([xval+15,yval+15,theta])\n",
    "quiverplot([xval,yval,theta],'200 random birds')"
   ]
  },
  {
   "cell_type": "markdown",
   "metadata": {},
   "source": [
    "## Part 2"
   ]
  },
  {
   "cell_type": "markdown",
   "metadata": {},
   "source": [
    "Firstly, in order to have a periodic boundry condition, we need to define a new distance function `distance1(a,b)`."
   ]
  },
  {
   "cell_type": "markdown",
   "metadata": {},
   "source": [
    "Define a function called `proximity(bird)` to choose every bird whose distance between the bird \n",
    "is closer than R. "
   ]
  },
  {
   "cell_type": "code",
   "execution_count": 13,
   "metadata": {},
   "outputs": [],
   "source": [
    "'''def proximity(birdx,R,birdspos):\n",
    "    closebirds=[]\n",
    "    for i in range(len(birdspos[0])):\n",
    "        a = [birdspos[0][i], birdspos[1][i]]\n",
    "        if directdist(a,birdx) < R:\n",
    "            closebirds.append([a[0],a[1],theta[i]])\n",
    "    \n",
    "    return closebirds'''\n",
    "\n",
    "def proximity(x,R,xval,yval,theta):\n",
    "    bird0 = []\n",
    "    bird1 = []\n",
    "    theta0 = []\n",
    "    for i in range(len(xval)):\n",
    "        a = [xval[i], yval[i]]\n",
    "        if directdist(a,x) < R:\n",
    "            bird0.append(a[0])\n",
    "            bird1.append(a[1])\n",
    "            theta0.append(theta[i])\n",
    "    return bird0, bird1, theta0\n"
   ]
  },
  {
   "cell_type": "markdown",
   "metadata": {},
   "source": [
    "Again, make a figure to illustrate the result"
   ]
  },
  {
   "cell_type": "code",
   "execution_count": 14,
   "metadata": {},
   "outputs": [
    {
     "ename": "NameError",
     "evalue": "name 'xval' is not defined",
     "output_type": "error",
     "traceback": [
      "\u001b[0;31m---------------------------------------------------------------------------\u001b[0m",
      "\u001b[0;31mNameError\u001b[0m                                 Traceback (most recent call last)",
      "\u001b[0;32m<ipython-input-14-2c15d67827c0>\u001b[0m in \u001b[0;36m<module>\u001b[0;34m\u001b[0m\n\u001b[0;32m----> 1\u001b[0;31m \u001b[0mpart21\u001b[0m \u001b[0;34m=\u001b[0m \u001b[0mproximity\u001b[0m\u001b[0;34m(\u001b[0m\u001b[0;34m[\u001b[0m\u001b[0;36m0\u001b[0m\u001b[0;34m,\u001b[0m\u001b[0;36m0\u001b[0m\u001b[0;34m]\u001b[0m\u001b[0;34m,\u001b[0m\u001b[0;36m5\u001b[0m\u001b[0;34m,\u001b[0m\u001b[0mxval\u001b[0m\u001b[0;34m,\u001b[0m\u001b[0myval\u001b[0m\u001b[0;34m,\u001b[0m\u001b[0mtheta\u001b[0m\u001b[0;34m)\u001b[0m\u001b[0;34m\u001b[0m\u001b[0;34m\u001b[0m\u001b[0m\n\u001b[0m\u001b[1;32m      2\u001b[0m \u001b[0mquiverplot\u001b[0m\u001b[0;34m(\u001b[0m\u001b[0mpart21\u001b[0m\u001b[0;34m,\u001b[0m\u001b[0;34m'the birds whose distance with (0,0) is less than 5'\u001b[0m\u001b[0;34m)\u001b[0m\u001b[0;34m\u001b[0m\u001b[0;34m\u001b[0m\u001b[0m\n",
      "\u001b[0;31mNameError\u001b[0m: name 'xval' is not defined"
     ]
    }
   ],
   "source": [
    "part21 = proximity([0,0],5,bird)\n",
    "quiverplot(part21,'the birds whose distance with (0,0) is less than 5')"
   ]
  },
  {
   "cell_type": "markdown",
   "metadata": {},
   "source": [
    "Now, define a function to apply the equations (9) and (10)"
   ]
  },
  {
   "cell_type": "code",
   "execution_count": null,
   "metadata": {},
   "outputs": [],
   "source": [
    "#v0 is the velocity of all birds\n",
    "#sigma is for noise\n",
    "def position1(birdx,R,xval,yval,theta,sigma,v0):\n",
    "    a = proximity(birdx,R,xval,yval,theta)\n",
    "    vec = [0,0]\n",
    "    n = np.zeros((len(a[0]),2))\n",
    "    for i in range(len(a[0])):\n",
    "        n[i] = [np.cos(a[2][i]), np.sin(a[2][i])]\n",
    "    for t in range(len(a[0])):\n",
    "        vec = vecsum1(n[t],vec)  # compute the vector sum\n",
    "    dirvec = vec / distance1(vec,[0,0])\n",
    "    theta0 = np.arctan2(dirvec[1], dirvec[0])\n",
    "    theta0 += np.random.normal(0,np.sqrt(sigma),1)  # add the noise which is distributed to N(0,sigma).\n",
    "    \n",
    "    thetai = np.ndarray.item(theta0)\n",
    "    ni = [np.cos(thetai), np.sin(thetai)]\n",
    "    pos = vecsum1(np.array(ni)*v0, birdx) #calcultes new position of birdx\n",
    "    \n",
    "    return pos[0], pos[1], thetai"
   ]
  },
  {
   "cell_type": "markdown",
   "metadata": {},
   "source": [
    "Now we have a funtion `angle1` for equation (10) which means that if select a bird x with influential radius R and noise parameter sigma then we will get a new angle theta0. This angle can be inserted into equation (9) to get the position for bird x in a new time step. To do this,\n",
    "We need to define a new function called `position1`"
   ]
  },
  {
   "cell_type": "markdown",
   "metadata": {},
   "source": [
    "Apply this function to all birds **at the same time**. To do this, write a new function called `finalpos`"
   ]
  },
  {
   "cell_type": "code",
   "execution_count": null,
   "metadata": {},
   "outputs": [],
   "source": [
    "def finalpos(R,xval,yval,theta,sigma,v0):\n",
    "    xval0 = np.zeros((len(xval)))\n",
    "    yval0 = np.zeros((len(yval)))\n",
    "    theta0 = np.zeros((len(theta)))\n",
    "    for i in range(len(xval)):\n",
    "        a = [xval[i], yval[i]]\n",
    "        b = position1(a,R,xval,yval,theta,sigma,v0)\n",
    "        xval0[i] = b[0]\n",
    "        yval0[i] = b[1]\n",
    "        theta0[i] = b[2]\n",
    "    return xval0, yval0, theta0"
   ]
  },
  {
   "cell_type": "markdown",
   "metadata": {},
   "source": [
    "Make an illustration to make sure that this function goes in correct direction:"
   ]
  },
  {
   "cell_type": "code",
   "execution_count": null,
   "metadata": {},
   "outputs": [],
   "source": [
    "part22 = finalpos(1,xval,yval,theta,.001,.5)\n",
    "part23 = periodicBC([part22[0],part22[1],part22[2]])\n",
    "quiverplot(part23,'the position of 200 random birds after 1 time step')"
   ]
  },
  {
   "cell_type": "markdown",
   "metadata": {},
   "source": [
    "## Part 3"
   ]
  },
  {
   "cell_type": "markdown",
   "metadata": {},
   "source": [
    "Define the `finalplot` function to make the figure after n time steps."
   ]
  },
  {
   "cell_type": "code",
   "execution_count": null,
   "metadata": {},
   "outputs": [],
   "source": [
    "def finalplot(R,xval,yval,theta,sigma,v0,n,plot=True,verbose=False):\n",
    "    a = np.zeros((n+1,3,len(xval)))\n",
    "    a[0] = xval, yval, theta\n",
    "    for i in range(n):\n",
    "        a[i+1] = finalpos(R,a[i][0],a[i][1],a[i][2],sigma,v0) # determine the position\n",
    "        a[i+1] = periodicBC([a[i+1][0], a[i+1][1], a[i+1][2]]) # use the periodic boundary condition\n",
    "        \n",
    "    if plot:\n",
    "        quiverplot(a[n],'the position of 200 random birds after {} time step'.format(n))\n",
    "    if verbose:\n",
    "        return a"
   ]
  },
  {
   "cell_type": "markdown",
   "metadata": {},
   "source": [
    "This is the distribution of birds after 1000 time steps."
   ]
  },
  {
   "cell_type": "code",
   "execution_count": null,
   "metadata": {},
   "outputs": [],
   "source": [
    "#import timeit\n",
    "finalplot(1,xval,yval,theta,.1,.5,100)"
   ]
  },
  {
   "cell_type": "markdown",
   "metadata": {},
   "source": [
    "Now consider the Vicsek order parameter which is a function of time step n."
   ]
  },
  {
   "cell_type": "code",
   "execution_count": null,
   "metadata": {},
   "outputs": [],
   "source": [
    "def n1(theta):\n",
    "    vec = [0,0]\n",
    "    for i in range(len(theta)):\n",
    "        a = [np.cos(theta[i]), np.sin(theta[i])]\n",
    "        vec = vecsum1(a,vec)\n",
    "    return distance1(vec,[0,0]) / len(theta)"
   ]
  },
  {
   "cell_type": "markdown",
   "metadata": {},
   "source": [
    "The above function is to compute the Vicsek order parameter at a particular time step. To compute the parameter for every time step which is less that n, define the following function:"
   ]
  },
  {
   "cell_type": "code",
   "execution_count": null,
   "metadata": {},
   "outputs": [],
   "source": [
    "def VOP(R,xval,yval,theta,sigma,v0,n,plot=True,verbose=False): # use this function to compute the Vicsek order parameter.\n",
    "    parameter = np.zeros(n+1)\n",
    "    a = finalplot(R,xval,yval,theta,sigma,v0,n,plot=False,verbose=True)\n",
    "    for i in range(n+1):\n",
    "        theta0 = a[i][2]\n",
    "        parameter[i] = n1(theta0)\n",
    "    if plot:\n",
    "        plt.figure()\n",
    "        plt.plot(np.arange(n+1),parameter,label='the Vicsek order parameter')\n",
    "        plt.plot([0,n],[1,1],'--')\n",
    "        plt.ylim(0,1.1)\n",
    "        plt.xlabel('time steps')\n",
    "        plt.ylabel('the Vicsek order parameter')\n",
    "        plt.title('a measure of the alignment between birds')\n",
    "        plt.legend()\n",
    "        plt.show()\n",
    "    if verbose:\n",
    "        return parameter"
   ]
  },
  {
   "cell_type": "code",
   "execution_count": null,
   "metadata": {},
   "outputs": [],
   "source": [
    "VOP(1,xval,yval,theta,.1,.5,100)"
   ]
  },
  {
   "cell_type": "code",
   "execution_count": null,
   "metadata": {},
   "outputs": [],
   "source": [
    "%timeit finalplot(1,xval,yval,theta,.01,.5,100)"
   ]
  },
  {
   "cell_type": "code",
   "execution_count": null,
   "metadata": {},
   "outputs": [],
   "source": [
    "%timeit VOP(1,xval,yval,theta,.1,.5,5)"
   ]
  },
  {
   "cell_type": "markdown",
   "metadata": {},
   "source": [
    "## Part 4"
   ]
  },
  {
   "cell_type": "markdown",
   "metadata": {},
   "source": [
    "In this part, use python to derive several small movies to illustrate the Vicsek model."
   ]
  },
  {
   "cell_type": "code",
   "execution_count": null,
   "metadata": {},
   "outputs": [],
   "source": [
    "import cv2\n",
    "import glob"
   ]
  },
  {
   "cell_type": "markdown",
   "metadata": {},
   "source": [
    "In order to create a small video we need to write a function to generate huge amount of figures in the same folder firstly. Notice that here the order of these figures is critical. "
   ]
  },
  {
   "cell_type": "code",
   "execution_count": null,
   "metadata": {},
   "outputs": [],
   "source": [
    "def saveplot(R,xval,yval,theta,sigma,v0,n):\n",
    "    a = finalplot(R,xval,yval,theta,sigma,v0,n,plot=False,verbose=True)\n",
    "    for i in range(n+1):\n",
    "        fig,ax = plt.subplots( nrows=1, ncols=1 )\n",
    "        ax.quiver(a[i][0], a[i][1],\n",
    "                  np.cos(a[i][2]),np.sin(a[i][2]), scale=25, width=.004)\n",
    "        plt.xlim(0,15)\n",
    "        plt.ylim(0,15)\n",
    "        fig.savefig('/home/randa/Documents/Code/The-Vicsek-model-master/Images/{}.png'.format(10000+i))   # save the figure to file\n",
    "        plt.close(fig)"
   ]
  },
  {
   "cell_type": "code",
   "execution_count": null,
   "metadata": {},
   "outputs": [],
   "source": [
    "saveplot(1,xval,yval,theta,.5,.5,1000)"
   ]
  },
  {
   "cell_type": "markdown",
   "metadata": {},
   "source": [
    "Now we can use these figures to create a movie. It is easy to get several movies by just changing the value of sigma. Here we choose sigma = 0.01, 0.1 and 0.5."
   ]
  },
  {
   "cell_type": "code",
   "execution_count": null,
   "metadata": {},
   "outputs": [],
   "source": [
    "a = glob.glob('/home/randa/Documents/Code/The-Vicsek-model-master/Images/*.png')\n",
    "img_array = []\n",
    "for filename in a:\n",
    "    img = cv2.imread(filename)\n",
    "    height, width, layers = img.shape\n",
    "    size = (width,height)\n",
    "    print(size)\n",
    "    img_array.append(img)\n",
    "    \n",
    "out = cv2.VideoWriter('/home/randa/Documents/Code/The-Vicsek-model-master/Images/sigma = {}.avi'.format(0.5),\n",
    "                      cv2.VideoWriter_fourcc(*'DIVX'), 12, size)\n",
    "\n",
    "for i in range(len(img_array)):\n",
    "    out.write(img_array[i])\n",
    "    \n",
    "out.release()"
   ]
  },
  {
   "cell_type": "markdown",
   "metadata": {},
   "source": [
    "## Part 5"
   ]
  },
  {
   "cell_type": "markdown",
   "metadata": {},
   "source": [
    "In this part, we need to regard the Vicsek model parameter n as a function of the noise parameter sigma. The key idea here is that extract the n traces in terms of time steps and put it into a csv file. Then abandon the first several n which are not steady compared with the average."
   ]
  },
  {
   "cell_type": "markdown",
   "metadata": {},
   "source": [
    "Here we use `pandas`."
   ]
  },
  {
   "cell_type": "code",
   "execution_count": null,
   "metadata": {},
   "outputs": [],
   "source": [
    "import pandas as pd"
   ]
  },
  {
   "cell_type": "code",
   "execution_count": null,
   "metadata": {},
   "outputs": [],
   "source": [
    "part51 = np.linspace(.01,1,10)"
   ]
  },
  {
   "cell_type": "code",
   "execution_count": null,
   "metadata": {},
   "outputs": [],
   "source": [
    "part52 = np.zeros((10,601))\n",
    "for i in range(10):\n",
    "    part52[i] = VOP(1,xval,yval,theta,part51[i],.5,60,plot=False,verbose=True)"
   ]
  },
  {
   "cell_type": "code",
   "execution_count": null,
   "metadata": {},
   "outputs": [],
   "source": [
    "part5columns = ['sigma = {}'.format(part51[i]) for i in range(10)]\n",
    "part5index = ['step = {}'.format(n) for n in range(601)]\n",
    "part5content = part52.T\n",
    "df1 = pd.DataFrame(part5content, columns=part5columns, index=part5index)\n",
    "df1"
   ]
  },
  {
   "cell_type": "code",
   "execution_count": null,
   "metadata": {},
   "outputs": [],
   "source": [
    "df1.to_csv(\"/home/randa/Documents/Code/The-Vicsek-model-master/Vicsek.csv\")"
   ]
  },
  {
   "cell_type": "markdown",
   "metadata": {},
   "source": [
    "Now we have the csv file which contains the n traces in terms of different sigma. Since only the values of n which are steady make sense, we abandon the first 121 `n`s for each sigma and extract the 122nd to the 201st. "
   ]
  },
  {
   "cell_type": "code",
   "execution_count": null,
   "metadata": {},
   "outputs": [],
   "source": [
    "df2 = pd.read_csv(\"/home/randa/Documents/Code/The-Vicsek-model-master/Vicsek-sqrt-len(sigma)=10.csv\",\n",
    "                 delimiter=\",\", encoding = \"ISO-8859-1\")\n",
    "df2.head()"
   ]
  },
  {
   "cell_type": "code",
   "execution_count": null,
   "metadata": {
    "scrolled": true
   },
   "outputs": [],
   "source": [
    "df2[401:601]"
   ]
  },
  {
   "cell_type": "code",
   "execution_count": null,
   "metadata": {},
   "outputs": [],
   "source": [
    "part53 = np.zeros(10)\n",
    "for i in range(10):\n",
    "    part53[i] = np.mean(df2[401:601]['sigma = {}'.format(part51[i])])"
   ]
  },
  {
   "cell_type": "markdown",
   "metadata": {},
   "source": [
    "Now we can make a plot where the average of Vicsek order parameter is a function of sigma."
   ]
  },
  {
   "cell_type": "code",
   "execution_count": null,
   "metadata": {},
   "outputs": [],
   "source": [
    "plt.figure()\n",
    "plt.plot(part51,part53,label='the average of Vicsek order parameter')\n",
    "plt.ylim(-0.05,1.05)\n",
    "plt.xlabel('sigma')\n",
    "plt.ylabel('the steady average values')\n",
    "plt.title('the n(σ) phase transition plot')\n",
    "plt.legend()\n",
    "plt.show()"
   ]
  },
  {
   "cell_type": "markdown",
   "metadata": {},
   "source": [
    "In order to create an error bar, now write a function which returns the `maxium distance` in a list."
   ]
  },
  {
   "cell_type": "markdown",
   "metadata": {},
   "source": [
    "Now create the error bar."
   ]
  },
  {
   "cell_type": "code",
   "execution_count": null,
   "metadata": {},
   "outputs": [],
   "source": [
    "[np.std(df2[401:601]['sigma = {}'.format(part51[i])]) for i in range(len(part51))]"
   ]
  },
  {
   "cell_type": "code",
   "execution_count": null,
   "metadata": {},
   "outputs": [],
   "source": [
    "part5yerr = [np.std(df2[401:601]['sigma = {}'.format(part51[i])]) for i in range(len(part51))] \n",
    "fig, ax = plt.subplots()\n",
    "ax.errorbar(part51, part53, yerr=part5yerr, fmt='-.', label='the average of Vicsek order parameter')\n",
    "ax.set_xlabel('sigma')\n",
    "ax.set_ylabel('the steady average values')\n",
    "ax.set_title('the n(σ) phase transition plot')\n",
    "ax.legend()\n",
    "plt.show()"
   ]
  },
  {
   "cell_type": "markdown",
   "metadata": {},
   "source": [
    "## Part 6"
   ]
  },
  {
   "cell_type": "markdown",
   "metadata": {},
   "source": [
    "In this part, we add a pred in the previous system. Use the function `f = Rprey * log(1/x)` to describe the influences of the pred to the birds whose distances with the prey are less than `Rprey`.  "
   ]
  },
  {
   "cell_type": "code",
   "execution_count": null,
   "metadata": {},
   "outputs": [],
   "source": [
    "part6pred = [15*np.random.rand(), 15*np.random.rand()]\n",
    "part6theta = 2*np.pi*np.random.rand()"
   ]
  },
  {
   "cell_type": "markdown",
   "metadata": {},
   "source": [
    "For the prey, define a function compute its position at every step."
   ]
  },
  {
   "cell_type": "code",
   "execution_count": null,
   "metadata": {},
   "outputs": [],
   "source": [
    "def position_pred(pred,predangle,vpred,Rpred,xval,yval,theta):\n",
    "    birds1 = proximity(pred,Rpred,xval,yval,theta)\n",
    "    vec = np.array([0,0])\n",
    "    if len(birds1[0]) == 0:\n",
    "        return pred[0]+np.cos(predangle)*vpred, pred[1]+np.sin(predangle)*vpred, predangle\n",
    "    for i in range(len(birds1[0])):\n",
    "        rinf = np.log(Rpred/directdist(pred,[birds1[0][i],birds1[1][i]])) # use the function f = log(Rprey/r)\n",
    "        t = directdist(pred, [birds1[0][i], birds1[1][i]], change=True)\n",
    "        inf = rinf * (np.array(t)\n",
    "                      / distance1(t ,[0,0])) # influence of a particular bird\n",
    "        vec = vecsum1(vec,inf)\n",
    "    alpha = np.arctan2(vec[1],vec[0])\n",
    "    vec = [np.cos(alpha), np.sin(alpha)]\n",
    "    pos = vecsum1(np.array(vec)*vpred, pred)\n",
    "    return pos[0] ,pos[1], alpha"
   ]
  },
  {
   "cell_type": "markdown",
   "metadata": {},
   "source": [
    "Again use the function `y = (theta1 - theta2) * x / R + theta2` to consider the influence of the pred towards birds. Write a new function to consider the position of birds."
   ]
  },
  {
   "cell_type": "code",
   "execution_count": null,
   "metadata": {},
   "outputs": [],
   "source": [
    "def position2(pred,Rpred,x,R,xval,yval,theta,sigma,v0):\n",
    "    a = proximity(x,R,xval,yval,theta)\n",
    "    vec = [0,0]\n",
    "    n = np.zeros((len(a[0]),2))\n",
    "    for i in range(len(a[0])):\n",
    "        n[i] = [np.cos(a[2][i]), np.sin(a[2][i])]\n",
    "    for t in range(len(a[0])):\n",
    "        vec = vecsum1(n[t],vec)  # compute the vector sum\n",
    "    vec = vec / distance1(vec,[0,0])\n",
    "    theta0 = np.arctan2(vec[1], vec[0])\n",
    "    \n",
    "    if directdist(x,pred) < Rpred:  # the birds are as easily as the pred to notice each other.\n",
    "        theta1 = np.arctan2(x[1]-pred[1] , x[0]-pred[0])\n",
    "        distance = directdist(x,pred)\n",
    "        theta0 = (theta1 - theta0) * distance / Rpred + theta0\n",
    "    \n",
    "    theta0 += np.random.normal(0,np.sqrt(sigma),1)  # add the noise which is distributed to N(0,sigma).\n",
    "        \n",
    "    thetai = np.asscalar(theta0)\n",
    "    ni = [np.cos(thetai), np.sin(thetai)]\n",
    "    pos = vecsum1(np.array(ni)*v0, x)\n",
    "    \n",
    "    return pos[0], pos[1], thetai"
   ]
  },
  {
   "cell_type": "code",
   "execution_count": null,
   "metadata": {},
   "outputs": [],
   "source": [
    "def finalpos1(pred,Rpred,R,xval,yval,theta,sigma,v0):\n",
    "    xval0 = np.zeros((len(xval)))\n",
    "    yval0 = np.zeros((len(yval)))\n",
    "    theta0 = np.zeros((len(theta)))\n",
    "    for i in range(len(xval)):\n",
    "        a = [xval[i], yval[i]]\n",
    "        b = position2(pred,Rpred,a,R,xval,yval,theta,sigma,v0)\n",
    "        xval0[i] = b[0]\n",
    "        yval0[i] = b[1]\n",
    "        theta0[i] = b[2]\n",
    "    return xval0, yval0, theta0"
   ]
  },
  {
   "cell_type": "markdown",
   "metadata": {},
   "source": [
    "Now make a new plot:"
   ]
  },
  {
   "cell_type": "code",
   "execution_count": null,
   "metadata": {},
   "outputs": [],
   "source": [
    "def periodicBC1(a,b,c):\n",
    "    while a > 15:\n",
    "        a -= 15\n",
    "    while a < 0:\n",
    "        a += 15\n",
    "    while b > 15:\n",
    "        b -= 15\n",
    "    while b < 0:\n",
    "        b += 15\n",
    "    return a,b,c"
   ]
  },
  {
   "cell_type": "code",
   "execution_count": null,
   "metadata": {},
   "outputs": [],
   "source": [
    "def finalplot_pred(pred,predangle,vpred,Rpred,R,xval,yval,theta,sigma,v0,n,plot=True,verbose=False):\n",
    "    a = np.zeros((n+1,3,len(xval)))\n",
    "    b = np.zeros((n+1,3))\n",
    "    a[0] = xval, yval, theta\n",
    "    b[0] = pred[0], pred[1], predangle\n",
    "    for i in range(n):\n",
    "        a[i+1] = finalpos1(b[i],Rpred,R,a[i][0],a[i][1],a[i][2],sigma,v0) # determine the position\n",
    "        a[i+1] = periodicBC(a[i+1][0], a[i+1][1], a[i+1][2]) # use the periodic boundary condition\n",
    "        \n",
    "        b[i+1] = position_pred(b[i][:2],b[i][2],vpred,Rpred,a[i][0],a[i][1],a[i][2])\n",
    "        b[i+1] = periodicBC1(b[i+1,0],b[i+1,1],b[i+1,2])\n",
    "    if plot:\n",
    "        plt.figure()\n",
    "        plt.quiver(a[n][0], a[n][1],\n",
    "                   np.cos(a[n][2]),np.sin(a[n][2]), np.arange(len(xval)),scale=25, width=.004)\n",
    "        plt.quiver(b[n][0], b[n][1],\n",
    "                   np.cos(b[n][2]),np.sin(b[n][2]), scale=12, width=.012)\n",
    "        plt.xlim(0,15)\n",
    "        plt.ylim(0,15)\n",
    "        plt.title('the position of 200 random birds after {} time step'.format(n))\n",
    "        plt.show()\n",
    "    if verbose:\n",
    "        return a, b"
   ]
  },
  {
   "cell_type": "code",
   "execution_count": null,
   "metadata": {},
   "outputs": [],
   "source": [
    "finalplot_pred(part6pred,part6theta,1,2,1,xval,yval,theta,.01,.5,100,plot=True,verbose=False)"
   ]
  },
  {
   "cell_type": "markdown",
   "metadata": {},
   "source": [
    "Similarly, create several videos to illustrate the result."
   ]
  },
  {
   "cell_type": "code",
   "execution_count": null,
   "metadata": {},
   "outputs": [],
   "source": [
    "def saveplot_pred(pred,predangle,vpred,Rpred,R,xval,yval,theta,sigma,v0,n):\n",
    "    a, b = finalplot_pred(pred,predangle,vpred,Rpred,R,xval,yval,theta,\n",
    "                       sigma,v0,n,plot=False,verbose=True)\n",
    "    for i in range(n+1):\n",
    "        fig,ax = plt.subplots(nrows=1, ncols=1)\n",
    "        ax.quiver(a[i][0], a[i][1],\n",
    "                  np.cos(a[i][2]),np.sin(a[i][2]), np.arange(len(xval)),scale=25, width=.004)\n",
    "        ax.quiver(b[i][0], b[i][1],\n",
    "                  np.cos(b[i][2]),np.sin(b[i][2]), scale=12, width=.012)\n",
    "        \n",
    "        plt.xlim(0,15)\n",
    "        plt.ylim(0,15)\n",
    "        fig.savefig('/home/randa/Documents/Code/The-Vicsek-model-master/Images/{}.png'.format(10000+i))   # save the figure to the file\n",
    "        plt.close(fig)"
   ]
  },
  {
   "cell_type": "code",
   "execution_count": null,
   "metadata": {},
   "outputs": [],
   "source": [
    "saveplot_pred(part6pred,part6theta,.6,3.5,1,xval,yval,theta,.01,.5,100)"
   ]
  },
  {
   "cell_type": "code",
   "execution_count": null,
   "metadata": {},
   "outputs": [],
   "source": [
    "a = glob.glob('/home/randa/Documents/Code/The-Vicsek-model-master/Images/*.png')\n",
    "img_array = []\n",
    "for filename in a:\n",
    "    img = cv2.imread(filename)\n",
    "    height, width, layers = img.shape\n",
    "    size = (width,height)\n",
    "    img_array.append(img)\n",
    "    \n",
    "out = cv2.VideoWriter('/home/randa/Documents/Code/The-Vicsek-model-master/with pred_sigma = {}.avi'.format(0.01),\n",
    "                      cv2.VideoWriter_fourcc(*'DIVX'), 12, size)\n",
    "\n",
    "for i in range(len(img_array)):\n",
    "    out.write(img_array[i])\n",
    "    \n",
    "out.release()"
   ]
  },
  {
   "cell_type": "markdown",
   "metadata": {},
   "source": [
    "If the prey can eat birds, we have:"
   ]
  },
  {
   "cell_type": "code",
   "execution_count": null,
   "metadata": {},
   "outputs": [],
   "source": [
    "def delete1(pred,vpred,birdsx,birdsy,birdstheta,v0):\n",
    "    caneat = proximity(pred,1,birdsx,birdsy,birdstheta) # the birds who are possibly to be eaten.\n",
    "    num = len(caneat[0])\n",
    "    if num == 0:\n",
    "        return birdsx, birdsy, birdstheta\n",
    "    index = []\n",
    "    for i in range(num):\n",
    "        index.append(list(birdsx).index(caneat[0][i]))\n",
    "    return np.delete(birdsx,index), np.delete(birdsy,index), np.delete(birdstheta,index)"
   ]
  },
  {
   "cell_type": "code",
   "execution_count": null,
   "metadata": {},
   "outputs": [],
   "source": [
    "def finalplot_pred_eat(pred,predangle,vpred,Rpred,R,xval,yval,theta,sigma,v0,n,plot=True,verbose=False):\n",
    "    a = []\n",
    "    b = np.zeros((n+1,3))\n",
    "    a.append([xval, yval, theta])\n",
    "    b[0] = pred[0], pred[1], predangle\n",
    "    for i in range(n):\n",
    "        \n",
    "        newstate = delete1(pred,vpred,a[4*i][0],a[4*i][1],a[4*i][2],v0)\n",
    "        a.append(newstate)\n",
    "        \n",
    "        a.append( finalpos1(b[i],Rpred,R,a[4*i+1][0],a[4*i+1][1],a[4*i+1][2],sigma,v0) ) # determine the position\n",
    "        a.append( periodicBC(a[4*i+2][0], a[4*i+2][1], a[4*i+2][2]) ) # use the periodic boundary condition\n",
    "        \n",
    "        b[i+1] = position_pred(b[i][:2],b[i][2],vpred,Rpred,a[4*i+1][0],a[4*i+1][1],a[4*i+1][2])\n",
    "        b[i+1] = periodicBC1(b[i+1,0],b[i+1,1],b[i+1,2])\n",
    "        \n",
    "        a.append( periodicBC(a[4*i+2][0], a[4*i+2][1], a[4*i+2][2]) )\n",
    "        \n",
    "    if plot:\n",
    "        plt.figure()\n",
    "        plt.quiver(a[4*n][0], a[4*n][1],\n",
    "                   np.cos(a[4*n][2]),np.sin(a[4*n][2]), np.arange(len(a[4*n][0])),scale=25, width=.004)\n",
    "        plt.quiver(b[n][0], b[n][1],\n",
    "                   np.cos(b[n][2]),np.sin(b[n][2]), scale=12, width=.012)\n",
    "        plt.xlim(0,15)\n",
    "        plt.ylim(0,15)\n",
    "        plt.title('the position of 200 random birds after {} time step'.format(n))\n",
    "        plt.show()\n",
    "    if verbose:\n",
    "        return a, b"
   ]
  },
  {
   "cell_type": "code",
   "execution_count": null,
   "metadata": {},
   "outputs": [],
   "source": [
    "finalplot_pred_eat(part6pred,part6theta,1,2,1,xval,yval,theta,.01,.5,50,plot=True,verbose=False)"
   ]
  },
  {
   "cell_type": "code",
   "execution_count": null,
   "metadata": {},
   "outputs": [],
   "source": [
    "def saveplot_pred_eat(pred,predangle,vpred,Rpred,R,xval,yval,theta,sigma,v0,n):\n",
    "    a, b = finalplot_pred_eat(pred,predangle,vpred,Rpred,R,xval,yval,theta,\n",
    "                       sigma,v0,n,plot=False,verbose=True)\n",
    "    for i in range(n+1):\n",
    "        fig,ax = plt.subplots(nrows=1, ncols=1)\n",
    "        ax.quiver(a[4*i][0], a[4*i][1],\n",
    "                  np.cos(a[4*i][2]),np.sin(a[4*i][2]), np.arange(len(a[4*i][0])),scale=25, width=.004)\n",
    "        ax.quiver(b[i][0], b[i][1],\n",
    "                  np.cos(b[i][2]),np.sin(b[i][2]), scale=12, width=.012)\n",
    "        \n",
    "        plt.xlim(0,15)\n",
    "        plt.ylim(0,15)\n",
    "        fig.savefig('/home/randa/Documents/Code/The-Vicsek-model-master/Images/{}.png'.format(10000+i))   # save the figure to the file\n",
    "        plt.close(fig)"
   ]
  },
  {
   "cell_type": "code",
   "execution_count": null,
   "metadata": {},
   "outputs": [],
   "source": [
    "saveplot_pred_eat(part6pred,part6theta,0.6,3.5,1,xval,yval,theta,.01,.5,100)"
   ]
  },
  {
   "cell_type": "code",
   "execution_count": null,
   "metadata": {},
   "outputs": [],
   "source": [
    "a = glob.glob('/home/randa/Documents/Code/The-Vicsek-model-master/Images/*.png')\n",
    "img_array = []\n",
    "for filename in a:\n",
    "    img = cv2.imread(filename)\n",
    "    height, width, layers = img.shape\n",
    "    size = (width,height)\n",
    "    img_array.append(img)\n",
    "    \n",
    "out = cv2.VideoWriter('/home/randa/Documents/Code/The-Vicsek-model-master/with pred_sigma = {}.avi'.format(0.01),\n",
    "                      cv2.VideoWriter_fourcc(*'DIVX'), 12, size)\n",
    "\n",
    "for i in range(len(img_array)):\n",
    "    out.write(img_array[i])\n",
    "    \n",
    "out.release()"
   ]
  }
 ],
 "metadata": {
  "kernelspec": {
   "display_name": "Python 3",
   "language": "python",
   "name": "python3"
  },
  "language_info": {
   "codemirror_mode": {
    "name": "ipython",
    "version": 3
   },
   "file_extension": ".py",
   "mimetype": "text/x-python",
   "name": "python",
   "nbconvert_exporter": "python",
   "pygments_lexer": "ipython3",
   "version": "3.8.2"
  }
 },
 "nbformat": 4,
 "nbformat_minor": 2
}
